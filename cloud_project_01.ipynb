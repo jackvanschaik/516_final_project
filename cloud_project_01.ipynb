{
  "nbformat": 4,
  "nbformat_minor": 0,
  "metadata": {
    "colab": {
      "name": "cloud_project_01.ipynb",
      "provenance": [],
      "collapsed_sections": [],
      "toc_visible": true
    },
    "kernelspec": {
      "name": "python3",
      "display_name": "Python 3"
    },
    "language_info": {
      "name": "python"
    }
  },
  "cells": [
    {
      "cell_type": "markdown",
      "metadata": {
        "id": "LBVjJz36Q1nY"
      },
      "source": [
        "#### Setup For Colab\n"
      ]
    },
    {
      "cell_type": "code",
      "metadata": {
        "id": "6Rrnr4X8Qrfe",
        "colab": {
          "base_uri": "https://localhost:8080/"
        },
        "outputId": "03853fc9-d6ba-4ea0-c0a8-77314c72a0cf"
      },
      "source": [
        "!apt-get install openjdk-8-jdk-headless -qq > /dev/null\n",
        "!wget -q http://apache.mirror.amaze.com.au/spark/spark-3.0.2/spark-3.0.2-bin-hadoop3.2.tgz\n",
        "!tar xf spark-3.0.2-bin-hadoop3.2.tgz\n",
        "!pip install -q findspark"
      ],
      "execution_count": null,
      "outputs": [
        {
          "output_type": "stream",
          "text": [
            "E: Failed to fetch http://security.ubuntu.com/ubuntu/pool/universe/o/openjdk-8/openjdk-8-jre-headless_8u282-b08-0ubuntu1~18.04_amd64.deb  404  Not Found [IP: 91.189.88.142 80]\n",
            "E: Failed to fetch http://security.ubuntu.com/ubuntu/pool/universe/o/openjdk-8/openjdk-8-jdk-headless_8u282-b08-0ubuntu1~18.04_amd64.deb  404  Not Found [IP: 91.189.88.142 80]\n",
            "E: Unable to fetch some archives, maybe run apt-get update or try with --fix-missing?\n"
          ],
          "name": "stdout"
        }
      ]
    },
    {
      "cell_type": "code",
      "metadata": {
        "id": "D2H_XwGbQyDv",
        "colab": {
          "base_uri": "https://localhost:8080/",
          "height": 198
        },
        "outputId": "9ae9f245-bad2-4642-b8e0-6bd4b790b031"
      },
      "source": [
        "import os\n",
        "os.environ[\"JAVA_HOME\"] = \"/usr/lib/jvm/java-8-openjdk-amd64\"\n",
        "os.environ[\"SPARK_HOME\"] = \"spark-3.0.2-bin-hadoop3.2\"\n",
        "\n",
        "import findspark\n",
        "findspark.init()\n",
        "\n",
        "from pyspark.sql import SparkSession\n",
        "spark = SparkSession.builder.master(\"local[*]\").getOrCreate()\n",
        "sc = spark.sparkContext\n",
        "sc"
      ],
      "execution_count": null,
      "outputs": [
        {
          "output_type": "execute_result",
          "data": {
            "text/html": [
              "\n",
              "        <div>\n",
              "            <p><b>SparkContext</b></p>\n",
              "\n",
              "            <p><a href=\"http://a39ba063596e:4040\">Spark UI</a></p>\n",
              "\n",
              "            <dl>\n",
              "              <dt>Version</dt>\n",
              "                <dd><code>v3.0.2</code></dd>\n",
              "              <dt>Master</dt>\n",
              "                <dd><code>local[*]</code></dd>\n",
              "              <dt>AppName</dt>\n",
              "                <dd><code>pyspark-shell</code></dd>\n",
              "            </dl>\n",
              "        </div>\n",
              "        "
            ],
            "text/plain": [
              "<SparkContext master=local[*] appName=pyspark-shell>"
            ]
          },
          "metadata": {
            "tags": []
          },
          "execution_count": 2
        }
      ]
    },
    {
      "cell_type": "code",
      "metadata": {
        "colab": {
          "base_uri": "https://localhost:8080/"
        },
        "id": "1GcQ7573Q8no",
        "outputId": "cd95bd79-d91d-463d-999b-0c7223cab168"
      },
      "source": [
        "from google.colab import drive\n",
        "drive.mount('/content/drive')"
      ],
      "execution_count": null,
      "outputs": [
        {
          "output_type": "stream",
          "text": [
            "Drive already mounted at /content/drive; to attempt to forcibly remount, call drive.mount(\"/content/drive\", force_remount=True).\n"
          ],
          "name": "stdout"
        }
      ]
    },
    {
      "cell_type": "markdown",
      "metadata": {
        "id": "bVm_Qi_LRyok"
      },
      "source": [
        "#### Load Data from CSV"
      ]
    },
    {
      "cell_type": "code",
      "metadata": {
        "id": "rFY_hn8USkKA"
      },
      "source": [
        "patients = spark.read.csv(\"/content/drive/MyDrive/synthea/patients.csv\", header=True)\n",
        "conditions = spark.read.csv(\"/content/drive/MyDrive/synthea/conditions.csv\", header=True)\n",
        "procedures = spark.read.csv(\"/content/drive/MyDrive/synthea/procedures.csv\", header=True)"
      ],
      "execution_count": null,
      "outputs": []
    },
    {
      "cell_type": "markdown",
      "metadata": {
        "id": "55Y-MlLDUjUl"
      },
      "source": [
        "Setup tables for SparkSQL queries"
      ]
    },
    {
      "cell_type": "code",
      "metadata": {
        "id": "vDA8tB4dUoAw"
      },
      "source": [
        "import pyspark.sql\n",
        "from pyspark.sql import Row\n",
        "\n",
        "patients.createOrReplaceTempView(\"patients\")\n",
        "conditions.createOrReplaceTempView(\"conditions\")\n",
        "procedures.createOrReplaceTempView(\"procedures\")"
      ],
      "execution_count": null,
      "outputs": []
    },
    {
      "cell_type": "markdown",
      "metadata": {
        "id": "JvOw7yvvWsgh"
      },
      "source": [
        "#### Create a Table for Analysis"
      ]
    },
    {
      "cell_type": "code",
      "metadata": {
        "colab": {
          "base_uri": "https://localhost:8080/"
        },
        "id": "IpV1jN78bapP",
        "outputId": "0991a79d-d39e-4bfd-8d02-80d89fde7fae"
      },
      "source": [
        "data_1 = spark.sql(\"\"\"\n",
        "WITH T1 AS (\n",
        "    SELECT X.Id, random(1234) AS RAND, X.BIRTHDATE, X.DEATHDATE, \n",
        "        2020 - CAST(substr(X.BIRTHDATE, 0, 4) AS NUMERIC) AS AGE,\n",
        "        CASE WHEN isnull(X.DEATHDATE) THEN 0 ELSE 1 END AS DEATH, \n",
        "        X.RACE, X.ETHNICITY, X.GENDER,\n",
        "        Y1.FEVER_FLAG, Y2.COUGH_FLAG, Y3.VENT_FLAG, Y4.OXYGEN_FLAG\n",
        "    FROM patients X\n",
        "    LEFT JOIN (\n",
        "        SELECT DISTINCT Patient, 1 AS FEVER_FLAG \n",
        "        FROM conditions WHERE CODE = 386661006\n",
        "        ) Y1 ON X.Id = Y1.Patient\n",
        "    LEFT JOIN (\n",
        "        SELECT DISTINCT Patient, 1 AS COUGH_FLAG \n",
        "        FROM conditions WHERE CODE = 49727002\n",
        "        ) Y2 ON X.Id = Y2.Patient\n",
        "    LEFT JOIN (\n",
        "        SELECT DISTINCT Patient, 1 AS VENT_FLAG \n",
        "        FROM procedures WHERE CODE = 26763009\n",
        "        ) Y3 ON X.Id = Y3.Patient\n",
        "    LEFT JOIN (\n",
        "        SELECT DISTINCT Patient, 1 AS OXYGEN_FLAG \n",
        "        FROM procedures WHERE CODE = 371908008\n",
        "        ) Y4 ON X.Id = Y4.Patient\n",
        ")\n",
        "SELECT Id, RAND, DEATH, CAST(AGE AS INT) AGE, \n",
        "    CASE WHEN RACE = 'asian' THEN 1 ELSE 0 END AS ASIAN_FLAG,\n",
        "    CASE WHEN RACE = 'other' THEN 1 ELSE 0 END AS OTHER_FLAG,\n",
        "    CASE WHEN RACE = 'black' THEN 1 ELSE 0 END AS BLACK_FLAG,\n",
        "    CASE WHEN RACE = 'native' THEN 1 ELSE 0 END AS NATIVE_FLAG,\n",
        "    CASE WHEN ETHNICITY = 'hispanic' THEN 1 ELSE 0 END AS HISPANIC_FLAG,\n",
        "    CASE WHEN GENDER = 'M' THEN 1 ELSE 0 END AS MALE_FLAG,\n",
        "    nvl(FEVER_FLAG, 0) AS FEVER_FLAG,\n",
        "    nvl(COUGH_FLAG, 0) AS COUGH_FLAG,\n",
        "    nvl(VENT_FLAG, 0) AS VENT_FLAG,\n",
        "    nvl(OXYGEN_FLAG, 0) AS OXYGEN_FLAG\n",
        "FROM T1\n",
        "\"\"\")\n",
        "data_1.show()"
      ],
      "execution_count": null,
      "outputs": [
        {
          "output_type": "stream",
          "text": [
            "+--------------------+-------------------+-----+---+----------+----------+----------+-----------+-------------+---------+----------+----------+---------+-----------+\n",
            "|                  Id|               RAND|DEATH|AGE|ASIAN_FLAG|OTHER_FLAG|BLACK_FLAG|NATIVE_FLAG|HISPANIC_FLAG|MALE_FLAG|FEVER_FLAG|COUGH_FLAG|VENT_FLAG|OXYGEN_FLAG|\n",
            "+--------------------+-------------------+-----+---+----------+----------+----------+-----------+-------------+---------+----------+----------+---------+-----------+\n",
            "|0053c053-09b3-408...| 0.7151043443924859|    1| 51|         0|         0|         0|          0|            0|        0|         1|         1|        1|          1|\n",
            "|00d38be8-920a-4e6...|  0.833439862021827|    1| 51|         0|         0|         0|          0|            0|        0|         0|         0|        0|          0|\n",
            "|0120542e-62f7-4b6...|0.20939665324719448|    0| 15|         0|         0|         0|          0|            0|        1|         1|         0|        0|          0|\n",
            "|01358bd4-cdcb-4de...|0.23524409495821386|    0| 25|         0|         0|         0|          0|            0|        0|         0|         0|        0|          0|\n",
            "|01c63fc5-0293-462...| 0.8935407464423308|    1|104|         0|         0|         0|          0|            0|        1|         0|         0|        0|          0|\n",
            "|01daf49b-0d81-419...|  0.420368446343075|    0| 27|         0|         0|         0|          0|            0|        0|         1|         0|        0|          0|\n",
            "|022e8034-9294-4ab...| 0.5003184761022917|    0| 30|         0|         0|         0|          0|            1|        1|         1|         0|        0|          0|\n",
            "|02cd1a6d-3613-457...| 0.4713090219330618|    1| 81|         0|         0|         0|          0|            0|        1|         0|         0|        0|          0|\n",
            "|037280d2-4487-4cf...| 0.5746689441978804|    0| 26|         1|         0|         0|          0|            0|        0|         1|         0|        0|          0|\n",
            "|03737c83-c8f3-4ad...| 0.6553676968552218|    0| 23|         0|         0|         0|          0|            1|        1|         1|         0|        0|          1|\n",
            "|03859286-ef09-4ad...| 0.5974099450366332|    0| 15|         0|         0|         0|          0|            0|        1|         1|         0|        0|          0|\n",
            "|0457df60-c614-47d...| 0.4554767315994118|    0| 62|         0|         0|         0|          0|            0|        1|         1|         0|        0|          1|\n",
            "|04bb5d62-c82e-480...|   0.52968558075066|    0| 10|         0|         0|         0|          0|            0|        1|         1|         0|        0|          0|\n",
            "|04c0d4a8-c4cd-487...| 0.6262223512832295|    1| 74|         0|         0|         0|          0|            0|        0|         0|         0|        0|          0|\n",
            "|04e2a86e-412a-474...|0.14591958481412048|    0| 35|         0|         0|         0|          0|            0|        1|         1|         0|        0|          0|\n",
            "|05db21e9-b4b8-47f...| 0.6688722330818563|    0| 72|         1|         0|         0|          0|            0|        1|         0|         0|        0|          0|\n",
            "|05ed94fe-c1d1-4f8...| 0.1841993981142258|    0|  4|         0|         0|         0|          0|            1|        0|         1|         1|        0|          0|\n",
            "|06f96246-28ec-413...| 0.5184613290513018|    0| 53|         0|         0|         0|          0|            0|        0|         0|         0|        0|          0|\n",
            "|0724e682-378a-42b...|  0.591428269911934|    0| 52|         0|         0|         0|          0|            0|        0|         1|         1|        0|          1|\n",
            "|0728f563-0eee-45c...| 0.5332168701749344|    0| 31|         0|         0|         0|          0|            0|        1|         0|         1|        0|          0|\n",
            "+--------------------+-------------------+-----+---+----------+----------+----------+-----------+-------------+---------+----------+----------+---------+-----------+\n",
            "only showing top 20 rows\n",
            "\n"
          ],
          "name": "stdout"
        }
      ]
    },
    {
      "cell_type": "code",
      "metadata": {
        "id": "QMaeKtOpfay2"
      },
      "source": [
        "data_train = data_1.filter(data_1.RAND <= 0.7)\n",
        "data_test = data_1.filter(data_1.RAND > 0.7)"
      ],
      "execution_count": null,
      "outputs": []
    },
    {
      "cell_type": "markdown",
      "metadata": {
        "id": "tJ61yiNKbxcP"
      },
      "source": [
        "#### Create Models\n",
        "\n",
        "Format table as labeled points"
      ]
    },
    {
      "cell_type": "code",
      "metadata": {
        "id": "y9T3jzjScVxe"
      },
      "source": [
        "from pyspark.mllib.classification import *\n",
        "from pyspark.mllib.tree import *\n",
        "from pyspark.mllib.regression import LabeledPoint\n",
        "from pyspark.mllib.evaluation import BinaryClassificationMetrics"
      ],
      "execution_count": null,
      "outputs": []
    },
    {
      "cell_type": "code",
      "metadata": {
        "id": "alwZaNuUdDXV"
      },
      "source": [
        "df_train = data_train.rdd.map(lambda x: LabeledPoint(x['DEATH'], x[-11:]))\n",
        "df_test = data_test.rdd.map(lambda x: LabeledPoint(x['DEATH'], x[-11:]))"
      ],
      "execution_count": null,
      "outputs": []
    },
    {
      "cell_type": "markdown",
      "metadata": {
        "id": "ubj2mTNxncyW"
      },
      "source": [
        "Train models"
      ]
    },
    {
      "cell_type": "code",
      "metadata": {
        "id": "YE2b30fOnekb"
      },
      "source": [
        "model_log_reg = LogisticRegressionWithSGD.train(df_train)\n",
        "model_svm = SVMWithSGD.train(df_train)\n",
        "model_bayes = NaiveBayes.train(df_train)\n",
        "model_rf = RandomForest.trainClassifier(df_train, 2, {}, 10, seed=1234)"
      ],
      "execution_count": null,
      "outputs": []
    },
    {
      "cell_type": "markdown",
      "metadata": {
        "id": "7G1EQetEoKYN"
      },
      "source": [
        "#### Evaluate Models"
      ]
    },
    {
      "cell_type": "code",
      "metadata": {
        "id": "CyN2399YoAHA"
      },
      "source": [
        "def eval_label(x, th=0.5):\n",
        "    y = x[0]\n",
        "    pred = x[1]\n",
        "    if (y == 0 and pred < th): return (\"TP\", 1)\n",
        "    elif (y == 0 and pred >= th): return (\"FP\", 1)\n",
        "    elif (y == 1 and pred < th): return (\"FN\", 1)\n",
        "    elif (y == 1 and pred >= th): return (\"TN\", 1)\n",
        "    else: return (\"ope\", 1)\n",
        "\n",
        "def list_to_metrics(m, model_name = \"model\"):\n",
        "    d = dict(m)\n",
        "    TP = d['TP']\n",
        "    try:\n",
        "        FP = d['FP']\n",
        "    except:\n",
        "        FP = 0\n",
        "    try:\n",
        "        FN = d['FN']\n",
        "    except:\n",
        "        FN = 0\n",
        "    try:\n",
        "        TN = d['TN']\n",
        "    except:\n",
        "        TN = 0\n",
        "    n = TP + FP + FN + TN\n",
        "    acc = (TP + TN)/n\n",
        "    F1 = TP/(TP + 0.5*(FP + FN))\n",
        "    if (TP + FN) == 0: \n",
        "        sens = 0.0\n",
        "    else: \n",
        "        sens = TP/(TP + FN)\n",
        "    if (TN + FP) == 0: \n",
        "        spec = 0.0\n",
        "    else:\n",
        "        spec = TN/(TN + FP)\n",
        "    metrics = {\"model\":model_name, \"n\":n, \"acc\":acc, \"F1\":F1, \"sens\":sens, \"spec\":spec}\n",
        "    return metrics"
      ],
      "execution_count": null,
      "outputs": []
    },
    {
      "cell_type": "code",
      "metadata": {
        "id": "l-a1eGtCdxTS"
      },
      "source": [
        "# Have to predict w/ Random Forests outside of Spark for some reason\n",
        "pred_rf = [(x.label, model_rf.predict(x.features)) for x in df_test.collect()]\n",
        "pred_eval_rf = sc.parallelize(pred_rf).map(eval_label).reduceByKey(lambda x, y: x + y).collect()"
      ],
      "execution_count": null,
      "outputs": []
    },
    {
      "cell_type": "code",
      "metadata": {
        "id": "YkZ7_p2w2fw2"
      },
      "source": [
        "pred_log = df_test.map(lambda x: (x.label, model_log_reg.predict(x.features)))\n",
        "pred_svm = df_test.map(lambda x: (x.label, model_svm.predict(x.features)))\n",
        "pred_nb = df_test.map(lambda x: (x.label, model_bayes.predict(x.features)))\n",
        "\n",
        "pred_eval_log = pred_log.map(eval_label).reduceByKey(lambda x, y: x + y).collect()  \n",
        "pred_eval_svm = pred_svm.map(eval_label).reduceByKey(lambda x, y: x + y).collect()\n",
        "pred_eval_nb = pred_nb.map(eval_label).reduceByKey(lambda x, y: x + y).collect()"
      ],
      "execution_count": null,
      "outputs": []
    },
    {
      "cell_type": "code",
      "metadata": {
        "colab": {
          "base_uri": "https://localhost:8080/"
        },
        "id": "35pdzlezuUct",
        "outputId": "a94d6a82-676c-4529-db9a-a49963523ad8"
      },
      "source": [
        "spark.createDataFrame([\n",
        "                       Row(**list_to_metrics(pred_eval_svm, \"Support Vector Machines\")),\n",
        "                       Row(**list_to_metrics(pred_eval_log, \"Logistic Regression\")),\n",
        "                       Row(**list_to_metrics(pred_eval_nb, \"Naive Bayes\")),\n",
        "                       Row(**list_to_metrics(pred_eval_rf, \"Random Forests\"))\n",
        "                       ]).show()"
      ],
      "execution_count": null,
      "outputs": [
        {
          "output_type": "stream",
          "text": [
            "+--------------------+-----+------------------+-------------------+------------------+------------------+\n",
            "|               model|    n|               acc|                 F1|              sens|              spec|\n",
            "+--------------------+-----+------------------+-------------------+------------------+------------------+\n",
            "|Support Vector Ma...|37277|0.8030689164900608| 0.8907800574293664|0.8030689164900608|               0.0|\n",
            "| Logistic Regression|37277|0.3272259033720525|0.27940120104588684|0.9989726731045819|0.2263498920086393|\n",
            "|         Naive Bayes|37277|0.9069667623467553|  0.941645633518425|0.9487014307994847|0.7488115122703328|\n",
            "|      Random Forests|37277|0.9271132333610538| 0.9556169038012317|0.9350724081710943|0.8855903935957304|\n",
            "+--------------------+-----+------------------+-------------------+------------------+------------------+\n",
            "\n"
          ],
          "name": "stdout"
        }
      ]
    },
    {
      "cell_type": "markdown",
      "metadata": {
        "id": "9rPK_4prVmqR"
      },
      "source": [
        "Random Forests peformed the best but Naive Bayes also did pretty well."
      ]
    },
    {
      "cell_type": "markdown",
      "metadata": {
        "id": "vGdwfQjxCs9g"
      },
      "source": [
        "## Investigate Sub Models\n",
        "\n",
        "See if we can get just as good test performance using submodels."
      ]
    },
    {
      "cell_type": "code",
      "metadata": {
        "id": "ytRsnLgO1bBg"
      },
      "source": [
        "def nb_sub_model(pred_vars):\n",
        "    all_vars = [\"DEATH\"] + pred_vars\n",
        "    sub_train = data_train.select(all_vars).rdd.map(lambda x: LabeledPoint(x[0], x[1:]))\n",
        "    sub_test = data_test.select(all_vars).rdd.map(lambda x: LabeledPoint(x[0], x[1:]))\n",
        "    model_bayes = NaiveBayes.train(sub_train)\n",
        "    pred = sub_test.map(lambda x: (x.label, model_bayes.predict(x.features)))\n",
        "    pred_eval = pred.map(eval_label).reduceByKey(lambda x, y: x + y).collect()\n",
        "    return pred_eval"
      ],
      "execution_count": null,
      "outputs": []
    },
    {
      "cell_type": "code",
      "metadata": {
        "colab": {
          "base_uri": "https://localhost:8080/"
        },
        "id": "mVkQWvnBD5Ku",
        "outputId": "1d00d85b-1698-41f4-eaa1-c0cac331023d"
      },
      "source": [
        "vars_demo = [\"AGE\", \"ASIAN_FLAG\", \"OTHER_FLAG\", \"BLACK_FLAG\", \"NATIVE_FLAG\", \"HISPANIC_FLAG\", \"MALE_FLAG\"]\n",
        "vars_proc = [\"VENT_FLAG\", \"OXYGEN_FLAG\"]\n",
        "vars_cond = [\"FEVER_FLAG\", \"COUGH_FLAG\"]\n",
        "\n",
        "spark.createDataFrame([\n",
        "                       Row(**list_to_metrics(nb_sub_model(vars_demo), \"Demographics Only\")),\n",
        "                       Row(**list_to_metrics(nb_sub_model(vars_proc), \"Procedures Only\")),\n",
        "                       Row(**list_to_metrics(nb_sub_model(vars_cond), \"Conditions Only\")),\n",
        "                       Row(**list_to_metrics(nb_sub_model(vars_demo + vars_proc), \"Demographics & Procedures\")),\n",
        "                       Row(**list_to_metrics(nb_sub_model(vars_demo + vars_cond), \"Demographics & Conditions\")),\n",
        "                       Row(**list_to_metrics(nb_sub_model(vars_cond + vars_proc), \"Procedures & Conditions\")),\n",
        "                       Row(**list_to_metrics(nb_sub_model(vars_demo + vars_proc + vars_cond), \"Demographics, Conds & Procs\")),\n",
        "                       ]).show()"
      ],
      "execution_count": null,
      "outputs": [
        {
          "output_type": "stream",
          "text": [
            "+--------------------+-----+------------------+------------------+------------------+------------------+\n",
            "|               model|    n|               acc|                F1|              sens|              spec|\n",
            "+--------------------+-----+------------------+------------------+------------------+------------------+\n",
            "|   Demographics Only|37277|0.8030689164900608|0.8907800574293664|0.8030689164900608|               0.0|\n",
            "|     Procedures Only|37277|0.8202108538777262|0.8989597467209407|0.8192009671923943|0.8618346545866364|\n",
            "|     Conditions Only|37277|0.8030689164900608|0.8907800574293664|0.8030689164900608|               0.0|\n",
            "|Demographics & Pr...|37277|0.8180111060439413|0.8979297063071738|0.8169075777485765|0.8718291054739653|\n",
            "|Demographics & Co...|37277|0.9027282238377552|0.9391896424498558|0.9430486326283174|0.7448912326961108|\n",
            "|Procedures & Cond...|37277|0.8202108538777262|0.8989597467209407|0.8192009671923943|0.8618346545866364|\n",
            "|Demographics, Con...|37277|0.9069667623467553| 0.941645633518425|0.9487014307994847|0.7488115122703328|\n",
            "+--------------------+-----+------------------+------------------+------------------+------------------+\n",
            "\n"
          ],
          "name": "stdout"
        }
      ]
    },
    {
      "cell_type": "markdown",
      "metadata": {
        "id": "gSpPAmIU9Q-V"
      },
      "source": [
        "## Incorporate Observations\n",
        "\n",
        "Using Kavitha's work"
      ]
    },
    {
      "cell_type": "code",
      "metadata": {
        "id": "7JYg0pW7-teW"
      },
      "source": [
        "obs_subset = spark.read.csv(\"/content/drive/MyDrive/synthea/Observations_Subset.csv\", header=True)\n",
        "obs_subset.createOrReplaceTempView(\"observations\")"
      ],
      "execution_count": null,
      "outputs": []
    },
    {
      "cell_type": "code",
      "metadata": {
        "colab": {
          "base_uri": "https://localhost:8080/"
        },
        "id": "fDZuSOBw-8we",
        "outputId": "72706c40-0119-4a13-c5db-3bce2ce1f783"
      },
      "source": [
        "observations_wide = spark.sql(\"\"\"\n",
        "Select X.DATE, X.PATIENT, X.ENCOUNTER,\n",
        "C.Diastolic_BP,       \n",
        "D.Systolic_BP,      \n",
        "F.Tobacco_smoking,      \n",
        "G.BMI,      \n",
        "Q.Glucose_in_Serum, \n",
        "R.HDL_Cholesterol\n",
        "from \n",
        "(Select DISTINCT DATE, PATIENT, ENCOUNTER     from  observations) X\n",
        "LEFT JOIN                                                                                                         \n",
        "(Select DATE, PATIENT, ENCOUNTER,VALUE as Diastolic_BP        from  observations where CODE = '8462-4'     ) C\n",
        "on    X.DATE = C.DATE and X.PATIENT = C.PATIENT and X.ENCOUNTER = C.ENCOUNTER \n",
        "LEFT JOIN\n",
        "(Select DATE, PATIENT, ENCOUNTER,VALUE as Systolic_BP       from  observations where CODE = '8480-6'     ) D\n",
        "on    X.DATE = D.DATE and X.PATIENT = D.PATIENT and X.ENCOUNTER = D.ENCOUNTER \n",
        "LEFT JOIN\n",
        "(Select DATE, PATIENT, ENCOUNTER,VALUE as Tobacco_smoking     from  observations where CODE = '72166-2'    ) F\n",
        "on    X.DATE = F.DATE and X.PATIENT = F.PATIENT and X.ENCOUNTER = F.ENCOUNTER \n",
        "LEFT JOIN\n",
        "(Select DATE, PATIENT, ENCOUNTER,VALUE as BMI                 from  observations where CODE = '39156-5'    ) G\n",
        "on    X.DATE = G.DATE and X.PATIENT = G.PATIENT and X.ENCOUNTER = G.ENCOUNTER \n",
        "LEFT JOIN\n",
        "(Select DATE, PATIENT, ENCOUNTER,VALUE as Glucose_in_Serum      from  observations where CODE = '2345-7'     ) Q\n",
        "on    X.DATE = q.DATE and X.PATIENT = q.PATIENT and X.ENCOUNTER = q.ENCOUNTER \n",
        "LEFT JOIN\n",
        "(Select DATE, PATIENT, ENCOUNTER,VALUE as HDL_Cholesterol     from  observations where CODE = '2085-9'     ) R\n",
        "on    X.DATE = r.DATE and X.PATIENT = r.PATIENT and X.ENCOUNTER = r.ENCOUNTER \n",
        "\"\"\")\n",
        "observations_wide.show()\n"
      ],
      "execution_count": null,
      "outputs": [
        {
          "output_type": "stream",
          "text": [
            "+----------+--------------------+--------------------+------------+-----------+---------------+----+----------------+---------------+\n",
            "|      DATE|             PATIENT|           ENCOUNTER|Diastolic_BP|Systolic_BP|Tobacco_smoking| BMI|Glucose_in_Serum|HDL_Cholesterol|\n",
            "+----------+--------------------+--------------------+------------+-----------+---------------+----+----------------+---------------+\n",
            "|1924-04-23|cca21f9e-b16e-44c...|ce75bc62-15e3-4f2...|        90.0|      125.0|   Never smoker|null|            null|           null|\n",
            "|1936-11-07|b7bd8d9d-ae46-497...|5ed6737b-3c3f-457...|        72.0|      126.0|   Never smoker|null|            null|           null|\n",
            "|1943-09-21|8e50dfc4-f548-449...|c5a2f758-308b-44a...|        79.0|      126.0|   Never smoker|null|            null|           null|\n",
            "|1958-01-31|8a926679-db7a-40b...|8bd68d0f-b3d8-419...|        81.0|      110.0|   Never smoker|null|            null|           null|\n",
            "|1964-02-05|189b094b-f7e9-4c4...|652bd349-8317-459...|        72.0|      115.0|   Never smoker|null|            null|           null|\n",
            "|1964-12-24|9f5466aa-8d6e-4e9...|7233b1be-042f-4a5...|        78.0|      113.0|  Former smoker|30.1|            null|           78.2|\n",
            "|1971-06-28|9f87fc4c-74fe-4f7...|4de6332e-6e09-4fb...|        87.0|      127.0|   Never smoker|null|            null|           null|\n",
            "|1973-09-29|9d30d3da-cef3-47b...|9bb6494e-2f0e-46d...|        86.0|      130.0|   Never smoker|19.3|            null|           null|\n",
            "|1973-12-04|d13e91a7-2da0-41e...|e43f8f85-60f7-410...|        72.0|      118.0|  Former smoker|30.0|            null|           47.5|\n",
            "|1974-02-13|2f81826c-1cef-48e...|93f7461b-4f36-4ff...|        83.0|      111.0|  Former smoker|28.4|            null|           47.1|\n",
            "|1975-12-27|1642aca9-0fbd-4b7...|703d48ef-a0a8-4c2...|        76.0|      115.0|   Never smoker|null|            null|           null|\n",
            "|1977-07-12|b5892c59-916f-4f8...|7c86a71e-4fdd-489...|        80.0|      114.0|   Never smoker|30.1|            null|           48.7|\n",
            "|1977-10-18|c2a5c7e6-13ba-46a...|23af4bfb-566d-403...|        76.0|      133.0|  Former smoker|29.7|            null|           57.9|\n",
            "|1978-12-07|9ad57961-9391-458...|ab38d160-031a-4df...|        78.0|      131.0|   Never smoker|27.6|            null|           70.1|\n",
            "|1981-02-21|3665e779-797d-4c3...|cb7a2336-23d7-47d...|        84.0|      127.0|   Never smoker|27.6|            null|           42.8|\n",
            "|1981-03-30|8dd51b1c-4079-407...|7c9c6ed0-c1dd-42c...|        85.0|      128.0|  Former smoker|30.3|            null|           null|\n",
            "|1981-09-01|13dc5eba-42e0-4cc...|48f2296b-c4f5-4ba...|        75.0|      109.0|   Never smoker|26.2|            null|           null|\n",
            "|1981-09-28|854f6ffb-7d11-49a...|ab2e09ee-9e01-474...|        87.0|      118.0|   Never smoker|30.5|            null|           55.9|\n",
            "|1981-10-05|f10d5d69-fa74-410...|3d2b0389-a452-461...|        82.0|      134.0|   Never smoker|30.3|            null|           59.9|\n",
            "|1982-05-15|ce0be14d-9162-49f...|30117aec-6b68-423...|        73.0|      134.0|  Former smoker|27.7|            null|           77.7|\n",
            "+----------+--------------------+--------------------+------------+-----------+---------------+----+----------------+---------------+\n",
            "only showing top 20 rows\n",
            "\n"
          ],
          "name": "stdout"
        }
      ]
    },
    {
      "cell_type": "code",
      "metadata": {
        "colab": {
          "base_uri": "https://localhost:8080/"
        },
        "id": "DajfyuIYBcyG",
        "outputId": "8f5ca598-1ffb-439e-f7af-6a1abe5d49b6"
      },
      "source": [
        "observations_wide.createOrReplaceTempView(\"observations_wide\")\n",
        "spark.sql(\"SELECT DISTINCT Tobacco_smoking FROM observations_wide\").collect()"
      ],
      "execution_count": null,
      "outputs": [
        {
          "output_type": "execute_result",
          "data": {
            "text/plain": [
              "[Row(Tobacco_smoking=None),\n",
              " Row(Tobacco_smoking='Never smoker'),\n",
              " Row(Tobacco_smoking='Current every day smoker'),\n",
              " Row(Tobacco_smoking='Former smoker')]"
            ]
          },
          "metadata": {
            "tags": []
          },
          "execution_count": 23
        }
      ]
    },
    {
      "cell_type": "code",
      "metadata": {
        "colab": {
          "base_uri": "https://localhost:8080/"
        },
        "id": "Ga-9ZL8TkG4d",
        "outputId": "420f14ac-a01e-4c02-9b33-746f0e34db32"
      },
      "source": [
        "obs_analytic = spark.sql(\"\"\"\n",
        "WITH X1 AS(\n",
        "    SELECT *, to_date(DATE, 'yyyy-MM-dd') AS DATE_F\n",
        "    FROM observations_wide\n",
        "), X2 AS (\n",
        "    SELECT DISTINCT Id as PATIENT\n",
        "    FROM patients\n",
        "), X3 AS (\n",
        "    SELECT DISTINCT PATIENT, 1 AS FLAG_FORMER_SMOKER\n",
        "    FROM observations_wide WHERE Tobacco_smoking = 'Former smoker'\n",
        "), X4 AS (\n",
        "    SELECT DISTINCT PATIENT, 1 AS FLAG_CURRENT_SMOKER\n",
        "    FROM observations_wide WHERE Tobacco_smoking = 'Current every day smoker'\n",
        "), X5 AS (\n",
        "    SELECT PATIENT, BMI, BMI_FLAG\n",
        "    FROM (\n",
        "        SELECT X1.DATE_F, X1.PATIENT, X1.BMI, 1 AS BMI_FLAG,\n",
        "            row_number() OVER (PARTITION BY X1.PATIENT ORDER BY X1.DATE_F DESC) AS RN\n",
        "        FROM X1\n",
        "        WHERE X1.BMI IS NOT NULL\n",
        "    )\n",
        "    WHERE RN = 1\n",
        "), X6 AS (\n",
        "    SELECT PATIENT, Systolic_BP, Systolic_FLAG\n",
        "    FROM (\n",
        "        SELECT X1.DATE_F, X1.PATIENT, X1.Systolic_BP, 1 AS Systolic_FLAG,\n",
        "            row_number() OVER (PARTITION BY X1.PATIENT ORDER BY X1.DATE_F DESC) AS RN\n",
        "        FROM X1\n",
        "        WHERE X1.Systolic_BP IS NOT NULL\n",
        "    )\n",
        "    WHERE RN = 1\n",
        "), X7 AS (\n",
        "    SELECT PATIENT, Glucose_in_Serum, Glucose_FLAG\n",
        "    FROM (\n",
        "        SELECT X1.DATE_F, X1.PATIENT, X1.Glucose_in_Serum, 1 AS Glucose_FLAG,\n",
        "            row_number() OVER (PARTITION BY X1.PATIENT ORDER BY X1.DATE_F DESC) AS RN\n",
        "        FROM X1\n",
        "        WHERE X1.Glucose_in_Serum IS NOT NULL\n",
        "    )\n",
        "    WHERE RN = 1\n",
        "), X8 AS (\n",
        "    SELECT PATIENT, HDL_Cholesterol, HDL_FLAG\n",
        "    FROM (\n",
        "        SELECT X1.DATE_F, X1.PATIENT, X1.HDL_Cholesterol, 1 AS HDL_FLAG,\n",
        "            row_number() OVER (PARTITION BY X1.PATIENT ORDER BY X1.DATE_F DESC) AS RN\n",
        "        FROM X1\n",
        "        WHERE X1.HDL_Cholesterol IS NOT NULL\n",
        "    )\n",
        "    WHERE RN = 1\n",
        "), X_J AS (\n",
        "    SELECT X2.PATIENT, \n",
        "        X3.FLAG_FORMER_SMOKER, X4.FLAG_CURRENT_SMOKER,\n",
        "        X5.BMI, X5.BMI_FLAG,\n",
        "        X6.Systolic_BP, X6.Systolic_FLAG,\n",
        "        X7.Glucose_in_Serum, X7.Glucose_FLAG,\n",
        "        X8.HDL_Cholesterol, X8.HDL_Flag\n",
        "    FROM X2\n",
        "    LEFT JOIN X3 ON X2.PATIENT = X3.PATIENT\n",
        "    LEFT JOIN X4 ON X2.PATIENT = X4.PATIENT\n",
        "    LEFT JOIN X5 ON X2.PATIENT = X5.PATIENT\n",
        "    LEFT JOIN X6 ON X2.PATIENT = X6.PATIENT\n",
        "    LEFT JOIN X7 ON X2.PATIENT = X7.PATIENT\n",
        "    LEFT JOIN X8 ON X2.PATIENT = X8.PATIENT\n",
        ")\n",
        "SELECT PATIENT,\n",
        "    NVL(FLAG_FORMER_SMOKER, 0) AS FLAG_FORMER_SMOKER,\n",
        "    NVL(FLAG_CURRENT_SMOKER, 0) AS FLAG_CURRENT_SMOKER,\n",
        "    NVL(BMI, 0) AS BMI, NVL(BMI_FLAG, 0) AS BMI_FLAG,\n",
        "    NVL(Systolic_BP, 0) AS Systolic_BP, NVL(Systolic_FLAG, 0) AS Systolic_FLAG,\n",
        "    NVL(Glucose_in_Serum, 0) AS Glucose_in_Serum, \n",
        "    NVL(Glucose_FLAG, 0) AS Glucose_FLAG,\n",
        "    NVL(HDL_Cholesterol, 0) AS HDL_Cholesterol, \n",
        "    NVL(HDL_FLAG, 0) AS HDL_FLAG\n",
        "FROM X_J\n",
        "\"\"\")\n",
        "\n",
        "obs_analytic.show()"
      ],
      "execution_count": null,
      "outputs": [
        {
          "output_type": "stream",
          "text": [
            "+--------------------+------------------+-------------------+----+--------+-----------+-------------+----------------+------------+---------------+--------+\n",
            "|             PATIENT|FLAG_FORMER_SMOKER|FLAG_CURRENT_SMOKER| BMI|BMI_FLAG|Systolic_BP|Systolic_FLAG|Glucose_in_Serum|Glucose_FLAG|HDL_Cholesterol|HDL_FLAG|\n",
            "+--------------------+------------------+-------------------+----+--------+-----------+-------------+----------------+------------+---------------+--------+\n",
            "|0053c053-09b3-408...|                 1|                  0|28.0|       1|      105.0|            1|            87.5|           1|              0|       0|\n",
            "|00d38be8-920a-4e6...|                 0|                  0|30.2|       1|      115.0|            1|               0|           0|           74.8|       1|\n",
            "|0120542e-62f7-4b6...|                 0|                  0|17.9|       1|      134.0|            1|               0|           0|              0|       0|\n",
            "|01358bd4-cdcb-4de...|                 1|                  0|26.8|       1|      116.0|            1|               0|           0|              0|       0|\n",
            "|01c63fc5-0293-462...|                 0|                  0|28.2|       1|      127.0|            1|               0|           0|           61.9|       1|\n",
            "|01daf49b-0d81-419...|                 0|                  0|   0|       0|      110.0|            1|               0|           0|              0|       0|\n",
            "|022e8034-9294-4ab...|                 0|                  0|25.1|       1|      121.0|            1|               0|           0|              0|       0|\n",
            "|02cd1a6d-3613-457...|                 0|                  0|   0|       0|          0|            0|               0|           0|              0|       0|\n",
            "|037280d2-4487-4cf...|                 0|                  0|31.1|       1|      132.0|            1|               0|           0|              0|       0|\n",
            "|03737c83-c8f3-4ad...|                 0|                  0|22.0|       1|      167.0|            1|            72.4|           1|              0|       0|\n",
            "|03859286-ef09-4ad...|                 0|                  0|19.2|       1|      118.0|            1|               0|           0|              0|       0|\n",
            "|0457df60-c614-47d...|                 0|                  0|30.2|       1|      120.0|            1|           104.1|           1|           54.4|       1|\n",
            "|04bb5d62-c82e-480...|                 0|                  0|19.8|       1|      127.0|            1|               0|           0|              0|       0|\n",
            "|04c0d4a8-c4cd-487...|                 0|                  0|33.6|       1|      113.0|            1|               0|           0|              0|       0|\n",
            "|04e2a86e-412a-474...|                 1|                  0|28.0|       1|      114.0|            1|               0|           0|           77.2|       1|\n",
            "|05db21e9-b4b8-47f...|                 0|                  0|30.3|       1|      108.0|            1|               0|           0|           66.1|       1|\n",
            "|05ed94fe-c1d1-4f8...|                 0|                  0|16.1|       1|      123.0|            1|               0|           0|              0|       0|\n",
            "|06f96246-28ec-413...|                 0|                  0|30.1|       1|      122.0|            1|               0|           0|           79.2|       1|\n",
            "|0724e682-378a-42b...|                 1|                  0|27.8|       1|      126.0|            1|            74.1|           1|           72.4|       1|\n",
            "|0728f563-0eee-45c...|                 0|                  0|   0|       0|      125.0|            1|               0|           0|              0|       0|\n",
            "+--------------------+------------------+-------------------+----+--------+-----------+-------------+----------------+------------+---------------+--------+\n",
            "only showing top 20 rows\n",
            "\n"
          ],
          "name": "stdout"
        }
      ]
    },
    {
      "cell_type": "markdown",
      "metadata": {
        "id": "XC3OiL8r18hB"
      },
      "source": [
        "#### Compare Naive Bayes Model\n",
        "Start by joining tables together"
      ]
    },
    {
      "cell_type": "code",
      "metadata": {
        "colab": {
          "base_uri": "https://localhost:8080/"
        },
        "id": "yh-1wY_i1_gP",
        "outputId": "7247d0ba-d15e-4fb2-89c2-2244fa45dce8"
      },
      "source": [
        "obs_analytic.createOrReplaceTempView(\"obs_analytic\")\n",
        "data_1.createOrReplaceTempView(\"data_1\")\n",
        "data_2 = spark.sql(\"\"\"\n",
        "SELECT X.*, Y.*\n",
        "FROM data_1 X\n",
        "INNER JOIN obs_analytic Y ON X.Id = Y.PATIENT\n",
        "\"\"\")\n",
        "data_2.count()"
      ],
      "execution_count": null,
      "outputs": [
        {
          "output_type": "execute_result",
          "data": {
            "text/plain": [
              "124150"
            ]
          },
          "metadata": {
            "tags": []
          },
          "execution_count": 71
        }
      ]
    },
    {
      "cell_type": "code",
      "metadata": {
        "id": "YofHk32I4zej"
      },
      "source": [
        "data_train_2 = data_2.filter(data_1.RAND <= 0.7)\n",
        "data_test_2 = data_2.filter(data_1.RAND > 0.7)"
      ],
      "execution_count": null,
      "outputs": []
    },
    {
      "cell_type": "code",
      "metadata": {
        "id": "2qx9LOHO4rUW"
      },
      "source": [
        "def nb_sub_model_2(pred_vars):\n",
        "    all_vars = [\"DEATH\"] + pred_vars\n",
        "    sub_train = data_train_2.select(all_vars).rdd.map(lambda x: LabeledPoint(x[0], x[1:]))\n",
        "    sub_test = data_test_2.select(all_vars).rdd.map(lambda x: LabeledPoint(x[0], x[1:]))\n",
        "    model_bayes = NaiveBayes.train(sub_train)\n",
        "    pred = sub_test.map(lambda x: (x.label, model_bayes.predict(x.features)))\n",
        "    pred_eval = pred.map(eval_label).reduceByKey(lambda x, y: x + y).collect()\n",
        "    return pred_eval"
      ],
      "execution_count": null,
      "outputs": []
    },
    {
      "cell_type": "code",
      "metadata": {
        "id": "Xq4QmVA349F_",
        "colab": {
          "base_uri": "https://localhost:8080/"
        },
        "outputId": "153a7e18-e767-4670-b06a-afaa3059a880"
      },
      "source": [
        "vars_demo = [\"AGE\", \"ASIAN_FLAG\", \"OTHER_FLAG\", \"BLACK_FLAG\", \"NATIVE_FLAG\", \"HISPANIC_FLAG\", \"MALE_FLAG\"]\n",
        "vars_proc = [\"VENT_FLAG\", \"OXYGEN_FLAG\"]\n",
        "vars_cond = [\"FEVER_FLAG\", \"COUGH_FLAG\"]\n",
        "vars_data_1 = vars_demo + vars_proc + vars_cond\n",
        "vars_obs = [\"FLAG_FORMER_SMOKER\", \"FLAG_CURRENT_SMOKER\", \"BMI\", \"BMI_FLAG\", \"Systolic_BP\", \n",
        "            \"Systolic_FLAG\", \"Glucose_in_Serum\", \"Glucose_FLAG\", \"HDL_Cholesterol\", \"HDL_FLAG\"]\n",
        "\n",
        "spark.createDataFrame([\n",
        "                       Row(**list_to_metrics(nb_sub_model_2(vars_data_1), \"Non observations\")),\n",
        "                       Row(**list_to_metrics(nb_sub_model_2(vars_obs), \"Observations Only\"))\n",
        "                       ]).show()\n"
      ],
      "execution_count": null,
      "outputs": [
        {
          "output_type": "stream",
          "text": [
            "+-----------------+-----+------------------+------------------+------------------+-------------------+\n",
            "|            model|    n|               acc|                F1|              sens|               spec|\n",
            "+-----------------+-----+------------------+------------------+------------------+-------------------+\n",
            "| Non observations|37277|0.9069667623467553| 0.941645633518425|0.9487014307994847| 0.7488115122703328|\n",
            "|Observations Only|37277|0.6677575985191941|0.7755486688776527|0.8476409301588559|0.29042712315107194|\n",
            "+-----------------+-----+------------------+------------------+------------------+-------------------+\n",
            "\n"
          ],
          "name": "stdout"
        }
      ]
    },
    {
      "cell_type": "code",
      "metadata": {
        "colab": {
          "base_uri": "https://localhost:8080/"
        },
        "id": "5WHeeQHMGN-o",
        "outputId": "c996fd96-d004-4433-ed81-372cf4204b1c"
      },
      "source": [
        "spark.createDataFrame([\n",
        "                       Row(**list_to_metrics(nb_sub_model_2(vars_data_1 + vars_obs), \"Both\"))\n",
        "                       ]).show()"
      ],
      "execution_count": null,
      "outputs": [
        {
          "output_type": "stream",
          "text": [
            "+-----+-----+------------------+------------------+------------------+-------------------+\n",
            "|model|    n|               acc|                F1|              sens|               spec|\n",
            "+-----+-----+------------------+------------------+------------------+-------------------+\n",
            "| Both|37277|0.7523137591544384|0.8290343486714193|0.9300760314096971|0.42837674136886733|\n",
            "+-----+-----+------------------+------------------+------------------+-------------------+\n",
            "\n"
          ],
          "name": "stdout"
        }
      ]
    },
    {
      "cell_type": "markdown",
      "metadata": {
        "id": "DR66jdtMLxQe"
      },
      "source": [
        "In general, the combination of BMI, blood pressure, cholesterol, and glucose wasn't very helpful."
      ]
    },
    {
      "cell_type": "markdown",
      "metadata": {
        "id": "q0CEBaGOMB-a"
      },
      "source": [
        "## Investigate Medications\n",
        "\n",
        "Shruthi's list of medications\n",
        "\n",
        "* Baricitinib\n",
        "* Tocilizumab  \n",
        "* Hydroxychloroquine\n",
        "* Chloroquine\n",
        "* Remdesivir\n",
        "* Desflurane\n",
        "* Pulmozyme\n",
        "* Colchicine"
      ]
    },
    {
      "cell_type": "code",
      "metadata": {
        "id": "DdfL7o6dMY7u"
      },
      "source": [
        "medications = spark.read.csv(\"/content/drive/MyDrive/synthea/medications.csv\", header=True)\n",
        "medications.createOrReplaceTempView(\"medications\")"
      ],
      "execution_count": null,
      "outputs": []
    },
    {
      "cell_type": "code",
      "metadata": {
        "colab": {
          "base_uri": "https://localhost:8080/"
        },
        "id": "1LNRsLniP_EA",
        "outputId": "5424a977-fb74-4498-ac0c-89706dafbce2"
      },
      "source": [
        "spark.sql(\"\"\"\n",
        "SELECT COUNT(*) AS baricitinib_count\n",
        "FROM medications\n",
        "WHERE lower(DESCRIPTION) like '%baricitinib%'\n",
        "\"\"\").show()"
      ],
      "execution_count": null,
      "outputs": [
        {
          "output_type": "stream",
          "text": [
            "+-----------------+\n",
            "|baricitinib_count|\n",
            "+-----------------+\n",
            "|              149|\n",
            "+-----------------+\n",
            "\n"
          ],
          "name": "stdout"
        }
      ]
    },
    {
      "cell_type": "code",
      "metadata": {
        "colab": {
          "base_uri": "https://localhost:8080/"
        },
        "id": "ow6dEQGFQ0ty",
        "outputId": "39f8ca83-95e5-4b4b-ba33-11caadd31055"
      },
      "source": [
        "spark.sql(\"\"\"\n",
        "SELECT COUNT(*) AS tocilizumab_count\n",
        "FROM medications\n",
        "WHERE lower(DESCRIPTION) like '%tocilizumab%'\n",
        "\"\"\").show()"
      ],
      "execution_count": null,
      "outputs": [
        {
          "output_type": "stream",
          "text": [
            "+-----------------+\n",
            "|baricitinib_count|\n",
            "+-----------------+\n",
            "|              161|\n",
            "+-----------------+\n",
            "\n"
          ],
          "name": "stdout"
        }
      ]
    },
    {
      "cell_type": "code",
      "metadata": {
        "colab": {
          "base_uri": "https://localhost:8080/"
        },
        "id": "6750Yr1WQ4pW",
        "outputId": "ace3a675-0db1-413f-df24-7b250248c509"
      },
      "source": [
        "spark.sql(\"\"\"\n",
        "SELECT COUNT(*) AS hydroxychloroquine_count\n",
        "FROM medications\n",
        "WHERE lower(DESCRIPTION) like '%hydroxychloroquine%'\n",
        "\"\"\").show()"
      ],
      "execution_count": null,
      "outputs": [
        {
          "output_type": "stream",
          "text": [
            "+-----------------+\n",
            "|baricitinib_count|\n",
            "+-----------------+\n",
            "|              208|\n",
            "+-----------------+\n",
            "\n"
          ],
          "name": "stdout"
        }
      ]
    },
    {
      "cell_type": "code",
      "metadata": {
        "colab": {
          "base_uri": "https://localhost:8080/"
        },
        "id": "YJoOHSFmQ8ht",
        "outputId": "560f82d4-8102-46b1-fe68-4ee538057fa5"
      },
      "source": [
        "spark.sql(\"\"\"\n",
        "SELECT COUNT(*) AS chloroquine_count\n",
        "FROM medications\n",
        "WHERE lower(DESCRIPTION) like '%chloroquine%'\n",
        "\"\"\").show()"
      ],
      "execution_count": null,
      "outputs": [
        {
          "output_type": "stream",
          "text": [
            "+-----------------+\n",
            "|baricitinib_count|\n",
            "+-----------------+\n",
            "|              351|\n",
            "+-----------------+\n",
            "\n"
          ],
          "name": "stdout"
        }
      ]
    },
    {
      "cell_type": "code",
      "metadata": {
        "colab": {
          "base_uri": "https://localhost:8080/"
        },
        "id": "4MsThGVkREHI",
        "outputId": "315b6066-003d-46c2-cd1a-f566a48f5a37"
      },
      "source": [
        "spark.sql(\"\"\"\n",
        "SELECT COUNT(*) AS remdesivir_count\n",
        "FROM medications\n",
        "WHERE lower(DESCRIPTION) like '%remdesivir%'\n",
        "\"\"\").show()"
      ],
      "execution_count": null,
      "outputs": [
        {
          "output_type": "stream",
          "text": [
            "+----------------+\n",
            "|remdesivir_count|\n",
            "+----------------+\n",
            "|             164|\n",
            "+----------------+\n",
            "\n"
          ],
          "name": "stdout"
        }
      ]
    },
    {
      "cell_type": "code",
      "metadata": {
        "colab": {
          "base_uri": "https://localhost:8080/"
        },
        "id": "nbeR8qtxRN-E",
        "outputId": "ae1aa83e-782a-4c4f-c2d6-98682e87db9d"
      },
      "source": [
        "spark.sql(\"\"\"\n",
        "SELECT COUNT(*) AS desflurane_count\n",
        "FROM medications\n",
        "WHERE lower(DESCRIPTION) like '%desflurane%'\n",
        "\"\"\").show()"
      ],
      "execution_count": null,
      "outputs": [
        {
          "output_type": "stream",
          "text": [
            "+----------------+\n",
            "|desflurane_count|\n",
            "+----------------+\n",
            "|               7|\n",
            "+----------------+\n",
            "\n"
          ],
          "name": "stdout"
        }
      ]
    },
    {
      "cell_type": "code",
      "metadata": {
        "colab": {
          "base_uri": "https://localhost:8080/"
        },
        "id": "AAMegSpURY4c",
        "outputId": "494a5249-2271-439b-add8-64f25983d77b"
      },
      "source": [
        "spark.sql(\"\"\"\n",
        "SELECT COUNT(*) AS pulmozyme_count\n",
        "FROM medications\n",
        "WHERE lower(DESCRIPTION) like '%pulmozyme%'\n",
        "\"\"\").show()"
      ],
      "execution_count": null,
      "outputs": [
        {
          "output_type": "stream",
          "text": [
            "+---------------+\n",
            "|pulmozyme_count|\n",
            "+---------------+\n",
            "|             39|\n",
            "+---------------+\n",
            "\n"
          ],
          "name": "stdout"
        }
      ]
    },
    {
      "cell_type": "code",
      "metadata": {
        "colab": {
          "base_uri": "https://localhost:8080/"
        },
        "id": "e3IjlQl6RZRH",
        "outputId": "eddc3cc5-b8f8-43b6-d6a3-9d5e98ef0a2c"
      },
      "source": [
        "spark.sql(\"\"\"\n",
        "SELECT COUNT(*) AS colchicine_count\n",
        "FROM medications\n",
        "WHERE lower(DESCRIPTION) like '%colchicine%'\n",
        "\"\"\").show()"
      ],
      "execution_count": null,
      "outputs": [
        {
          "output_type": "stream",
          "text": [
            "+----------------+\n",
            "|colchicine_count|\n",
            "+----------------+\n",
            "|              51|\n",
            "+----------------+\n",
            "\n"
          ],
          "name": "stdout"
        }
      ]
    },
    {
      "cell_type": "code",
      "metadata": {
        "colab": {
          "base_uri": "https://localhost:8080/"
        },
        "id": "eAK5UYBURqh-",
        "outputId": "38902370-25f4-401a-d735-87d0d788dfc1"
      },
      "source": [
        "meds_analytic = spark.sql(\"\"\"\n",
        "WITH PATS AS (\n",
        "    SELECT DISTINCT Id AS PATIENT FROM patients\n",
        "), X1 AS (\n",
        "    SELECT DISTINCT PATIENT, 1 AS tocilizumab_FLAG\n",
        "    FROM medications WHERE lower(DESCRIPTION) like '%tocilizumab%'\n",
        "), X2 AS (\n",
        "    SELECT DISTINCT PATIENT, 1 AS baricitinib_FLAG\n",
        "    FROM medications WHERE lower(DESCRIPTION) like '%baricitinib%'\n",
        "), X3 AS (\n",
        "    SELECT DISTINCT PATIENT, 1 AS hydroxychloroquine_FLAG\n",
        "    FROM medications WHERE lower(DESCRIPTION) like '%hydroxychloroquine%'\n",
        "), X4 AS (\n",
        "    SELECT DISTINCT PATIENT, 1 AS remdesivir_FLAG\n",
        "    FROM medications WHERE lower(DESCRIPTION) like '%remdesivir%'\n",
        "), X5 AS (\n",
        "    SELECT DISTINCT PATIENT, 1 AS pulmozyme_FLAG\n",
        "    FROM medications WHERE lower(DESCRIPTION) like '%pulmozyme%'\n",
        "), X6 AS (\n",
        "    SELECT DISTINCT PATIENT, 1 AS colchicine_FLAG\n",
        "    FROM medications WHERE lower(DESCRIPTION) like '%colchicine%'\n",
        ")\n",
        "SELECT PATS.PATIENT,\n",
        "    NVL(baricitinib_FLAG, 0) AS baricitinib_FLAG,\n",
        "    NVL(tocilizumab_FLAG, 0) AS tocilizumab_FLAG,\n",
        "    NVL(hydroxychloroquine_FLAG, 0) AS hydroxychloroquine_FLAG,\n",
        "    NVL(remdesivir_FLAG, 0) AS remdesivir_FLAG,\n",
        "    NVL(pulmozyme_FLAG, 0) AS pulmozyme_FLAG,\n",
        "    NVL(colchicine_FLAG, 0) AS colchicine_FLAG\n",
        "FROM PATS\n",
        "LEFT JOIN X1 ON PATS.PATIENT = X1.PATIENT\n",
        "LEFT JOIN X2 ON PATS.PATIENT = X2.PATIENT\n",
        "LEFT JOIN X3 ON PATS.PATIENT = X3.PATIENT\n",
        "LEFT JOIN X4 ON PATS.PATIENT = X4.PATIENT\n",
        "LEFT JOIN X5 ON PATS.PATIENT = X5.PATIENT\n",
        "LEFT JOIN X6 ON PATS.PATIENT = X6.PATIENT\n",
        "\"\"\")\n",
        "\n",
        "meds_analytic.show()"
      ],
      "execution_count": null,
      "outputs": [
        {
          "output_type": "stream",
          "text": [
            "+--------------------+----------------+----------------+-----------------------+---------------+--------------+---------------+\n",
            "|             PATIENT|baricitinib_FLAG|tocilizumab_FLAG|hydroxychloroquine_FLAG|remdesivir_FLAG|pulmozyme_FLAG|colchicine_FLAG|\n",
            "+--------------------+----------------+----------------+-----------------------+---------------+--------------+---------------+\n",
            "|0053c053-09b3-408...|               0|               0|                      0|              0|             0|              0|\n",
            "|00d38be8-920a-4e6...|               0|               0|                      0|              0|             0|              0|\n",
            "|0120542e-62f7-4b6...|               0|               0|                      0|              0|             0|              0|\n",
            "|01358bd4-cdcb-4de...|               0|               0|                      0|              0|             0|              0|\n",
            "|01c63fc5-0293-462...|               0|               0|                      0|              0|             0|              0|\n",
            "|01daf49b-0d81-419...|               0|               0|                      0|              0|             0|              0|\n",
            "|022e8034-9294-4ab...|               0|               0|                      0|              0|             0|              0|\n",
            "|02cd1a6d-3613-457...|               0|               0|                      0|              0|             0|              0|\n",
            "|037280d2-4487-4cf...|               0|               0|                      0|              0|             0|              0|\n",
            "|03737c83-c8f3-4ad...|               0|               0|                      0|              0|             0|              0|\n",
            "|03859286-ef09-4ad...|               0|               0|                      0|              0|             0|              0|\n",
            "|0457df60-c614-47d...|               0|               0|                      0|              0|             0|              0|\n",
            "|04bb5d62-c82e-480...|               0|               0|                      0|              0|             0|              0|\n",
            "|04c0d4a8-c4cd-487...|               0|               0|                      0|              0|             0|              0|\n",
            "|04e2a86e-412a-474...|               0|               0|                      0|              0|             0|              0|\n",
            "|05db21e9-b4b8-47f...|               0|               0|                      0|              0|             0|              0|\n",
            "|05ed94fe-c1d1-4f8...|               0|               0|                      0|              0|             0|              0|\n",
            "|06f96246-28ec-413...|               0|               0|                      0|              0|             0|              0|\n",
            "|0724e682-378a-42b...|               0|               0|                      0|              0|             0|              0|\n",
            "|0728f563-0eee-45c...|               0|               0|                      0|              0|             0|              0|\n",
            "+--------------------+----------------+----------------+-----------------------+---------------+--------------+---------------+\n",
            "only showing top 20 rows\n",
            "\n"
          ],
          "name": "stdout"
        }
      ]
    },
    {
      "cell_type": "markdown",
      "metadata": {
        "id": "2SrPl8L7UVKE"
      },
      "source": [
        "#### Compare Naive Bayes Model"
      ]
    },
    {
      "cell_type": "code",
      "metadata": {
        "colab": {
          "base_uri": "https://localhost:8080/"
        },
        "id": "79v4U8OwUXs5",
        "outputId": "1c61ca46-db1f-4b53-a5ce-71a79f38c158"
      },
      "source": [
        "meds_analytic.createOrReplaceTempView(\"meds_analytic\")\n",
        "data_1.createOrReplaceTempView(\"data_1\")\n",
        "data_3 = spark.sql(\"\"\"\n",
        "SELECT X.*, Y.*\n",
        "FROM data_1 X\n",
        "INNER JOIN meds_analytic Y ON X.Id = Y.PATIENT\n",
        "\"\"\")\n",
        "data_3.count()"
      ],
      "execution_count": null,
      "outputs": [
        {
          "output_type": "execute_result",
          "data": {
            "text/plain": [
              "124150"
            ]
          },
          "metadata": {
            "tags": []
          },
          "execution_count": 96
        }
      ]
    },
    {
      "cell_type": "code",
      "metadata": {
        "id": "7QxTCEanUqIE"
      },
      "source": [
        "data_train_3 = data_3.filter(data_3.RAND <= 0.7)\n",
        "data_test_3 = data_3.filter(data_3.RAND > 0.7)\n",
        "\n",
        "def nb_sub_model_3(pred_vars):\n",
        "    all_vars = [\"DEATH\"] + pred_vars\n",
        "    sub_train = data_train_3.select(all_vars).rdd.map(lambda x: LabeledPoint(x[0], x[1:]))\n",
        "    sub_test = data_test_3.select(all_vars).rdd.map(lambda x: LabeledPoint(x[0], x[1:]))\n",
        "    model_bayes = NaiveBayes.train(sub_train)\n",
        "    pred = sub_test.map(lambda x: (x.label, model_bayes.predict(x.features)))\n",
        "    pred_eval = pred.map(eval_label).reduceByKey(lambda x, y: x + y).collect()\n",
        "    return pred_eval"
      ],
      "execution_count": null,
      "outputs": []
    },
    {
      "cell_type": "code",
      "metadata": {
        "colab": {
          "base_uri": "https://localhost:8080/"
        },
        "id": "Xoz_TKzWUy3w",
        "outputId": "9c595924-62a9-4f5f-d141-95178eeb28b5"
      },
      "source": [
        "vars_demo = [\"AGE\", \"ASIAN_FLAG\", \"OTHER_FLAG\", \"BLACK_FLAG\", \"NATIVE_FLAG\", \"HISPANIC_FLAG\", \"MALE_FLAG\"]\n",
        "vars_proc = [\"VENT_FLAG\", \"OXYGEN_FLAG\"]\n",
        "vars_cond = [\"FEVER_FLAG\", \"COUGH_FLAG\"]\n",
        "vars_data_1 = vars_demo + vars_proc + vars_cond\n",
        "vars_meds = [\"baricitinib_FLAG\", \"tocilizumab_FLAG\", \"hydroxychloroquine_FLAG\", \n",
        "             \"remdesivir_FLAG\", \"pulmozyme_FLAG\", \"colchicine_FLAG\"]\n",
        "\n",
        "spark.createDataFrame([\n",
        "                       Row(**list_to_metrics(nb_sub_model_3(vars_data_1), \"Non medication\")),\n",
        "                       Row(**list_to_metrics(nb_sub_model_3(vars_meds), \"Medication Only\")),\n",
        "                       Row(**list_to_metrics(nb_sub_model_3(vars_meds + vars_data_1), \"Combined\")),\n",
        "                       ]).show()"
      ],
      "execution_count": null,
      "outputs": [
        {
          "output_type": "stream",
          "text": [
            "+---------------+-----+------------------+------------------+------------------+------------------+\n",
            "|          model|    n|               acc|                F1|              sens|              spec|\n",
            "+---------------+-----+------------------+------------------+------------------+------------------+\n",
            "| Non medication|37277|0.9069667623467553| 0.941645633518425|0.9487014307994847|0.7488115122703328|\n",
            "|Medication Only|37277|0.8034713093864849|0.8909724082507366|0.8034247678350959|0.8947368421052632|\n",
            "|       Combined|37277|0.9071545456984199|0.9417506774155545| 0.949018011600692|0.7488455618265777|\n",
            "+---------------+-----+------------------+------------------+------------------+------------------+\n",
            "\n"
          ],
          "name": "stdout"
        }
      ]
    }
  ]
}